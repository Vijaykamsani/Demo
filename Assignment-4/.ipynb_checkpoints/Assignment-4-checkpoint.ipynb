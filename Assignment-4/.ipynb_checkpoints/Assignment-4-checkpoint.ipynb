{
 "cells": [
  {
   "cell_type": "code",
   "execution_count": 81,
   "metadata": {},
   "outputs": [
    {
     "name": "stdout",
     "output_type": "stream",
     "text": [
      "         Duration       Pulse    Maxpulse     Calories\n",
      "count  169.000000  169.000000  169.000000   164.000000\n",
      "mean    63.846154  107.461538  134.047337   375.790244\n",
      "std     42.299949   14.510259   16.450434   266.379919\n",
      "min     15.000000   80.000000  100.000000    50.300000\n",
      "25%     45.000000  100.000000  124.000000   250.925000\n",
      "50%     60.000000  105.000000  131.000000   318.600000\n",
      "75%     60.000000  111.000000  141.000000   387.600000\n",
      "max    300.000000  159.000000  184.000000  1860.400000\n",
      "         Duration     Calories\n",
      "min     15.000000    50.300000\n",
      "max    300.000000  1860.400000\n",
      "count  169.000000   169.000000\n",
      "mean    63.846154   375.790244\n",
      "     Duration  Pulse  Maxpulse  Calories\n",
      "51         80    123       146     643.1\n",
      "62        160    109       135     853.0\n",
      "65        180     90       130     800.4\n",
      "66        150    105       135     873.4\n",
      "67        150    107       130     816.0\n",
      "72         90    100       127     700.0\n",
      "73        150     97       127     953.2\n",
      "75         90     98       125     563.2\n",
      "78        120    100       130     500.4\n",
      "83        120    100       130     500.0\n",
      "90        180    101       127     600.1\n",
      "99         90     93       124     604.1\n",
      "101        90     90       110     500.0\n",
      "102        90     90       100     500.0\n",
      "103        90     90       100     500.4\n",
      "106       180     90       120     800.3\n",
      "108        90     90       120     500.3\n",
      "     Duration  Pulse  Maxpulse  Calories\n",
      "65        180     90       130     800.4\n",
      "70        150     97       129    1115.0\n",
      "73        150     97       127     953.2\n",
      "75         90     98       125     563.2\n",
      "99         90     93       124     604.1\n",
      "103        90     90       100     500.4\n",
      "106       180     90       120     800.3\n",
      "108        90     90       120     500.3\n",
      "     Duration  Pulse  Calories\n",
      "0          60    110     409.1\n",
      "1          60    117     479.0\n",
      "2          60    103     340.0\n",
      "3          45    109     282.4\n",
      "4          45    117     406.0\n",
      "..        ...    ...       ...\n",
      "164        60    105     290.8\n",
      "165        60    110     300.0\n",
      "166        60    115     310.2\n",
      "167        75    120     320.4\n",
      "168        75    125     330.4\n",
      "\n",
      "[169 rows x 3 columns]\n",
      "Duration      int64\n",
      "Pulse         int64\n",
      "Calories    float64\n",
      "dtype: object\n",
      "Duration    int64\n",
      "Pulse       int64\n",
      "Calories    int32\n",
      "dtype: object\n"
     ]
    },
    {
     "data": {
      "text/plain": [
       "<AxesSubplot:xlabel='Duration', ylabel='Calories'>"
      ]
     },
     "execution_count": 81,
     "metadata": {},
     "output_type": "execute_result"
    },
    {
     "data": {
      "image/png": "[encoded data removed]",
      "text/plain": [
       "<Figure size 640x480 with 1 Axes>"
      ]
     },
     "metadata": {},
     "output_type": "display_data"
    }
   ],
   "source": [
    "import pandas as pd\n",
    "\n",
    "# 1. Read the provided CSV file\n",
    "df = pd.read_csv('data.csv')\n",
    "\n",
    "# 2. Show the basic statistical description about the data\n",
    "print(df.describe())\n",
    "\n",
    "# 3. Check if the data has null values and replace them with the mean\n",
    "if df.isnull().values.any():\n",
    "    df = df.fillna(df.mean())\n",
    "\n",
    "# 4. Select at least two columns and aggregate the data using: min, max, count, mean\n",
    "agg_df = df[['Duration', 'Calories']].agg(['min', 'max', 'count', 'mean'])\n",
    "print(agg_df)\n",
    "\n",
    "# 5. Filter the dataframe to select the rows with calories values between 500 and 1000\n",
    "filtered_df1 = df[(df['Calories'] >= 500) & (df['Calories'] <= 1000)]\n",
    "print(filtered_df1)\n",
    "\n",
    "# 6. Filter the dataframe to select the rows with calories values > 500 and pulse < 100\n",
    "filtered_df2 = df[(df['Calories'] > 500) & (df['Pulse'] < 100)]\n",
    "print(filtered_df2)\n",
    "\n",
    "# 7. Create a new “df_modified” dataframe that contains all the columns from df except for “Maxpulse”\n",
    "df_modified = df.drop('Maxpulse', axis=1)\n",
    "print(df_modified)\n",
    "\n",
    "# 8. Delete the “Maxpulse” column from the main df dataframe\n",
    "df.drop('Maxpulse', axis=1, inplace=True)\n",
    "\n",
    "# 9. Convert the datatype of Calories column to int datatype\n",
    "print(df.dtypes)\n",
    "df=df.astype({'Calories':'int'})\n",
    "print(df.dtypes)\n",
    "\n",
    "# 10. Using pandas create a scatter plot for the two columns (Duration and Calories)\n",
    "df.plot.scatter(x='Duration', y='Calories')\n"
   ]
  },
  {
   "cell_type": "code",
   "execution_count": 78,
   "metadata": {},
   "outputs": [
    {
     "name": "stdout",
     "output_type": "stream",
     "text": [
      "Requirement already satisfied: datasets in c:\\users\\vijaykumar\\anaconda3\\lib\\site-packages (2.11.0)\n",
      "Requirement already satisfied: dill<0.3.7,>=0.3.0 in c:\\users\\vijaykumar\\anaconda3\\lib\\site-packages (from datasets) (0.3.6)\n",
      "Requirement already satisfied: pyarrow>=8.0.0 in c:\\users\\vijaykumar\\anaconda3\\lib\\site-packages (from datasets) (11.0.0)\n",
      "Requirement already satisfied: requests>=2.19.0 in c:\\users\\vijaykumar\\anaconda3\\lib\\site-packages (from datasets) (2.28.1)\n",
      "Requirement already satisfied: multiprocess in c:\\users\\vijaykumar\\anaconda3\\lib\\site-packages (from datasets) (0.70.14)\n",
      "Requirement already satisfied: xxhash in c:\\users\\vijaykumar\\anaconda3\\lib\\site-packages (from datasets) (3.2.0)\n",
      "Requirement already satisfied: aiohttp in c:\\users\\vijaykumar\\anaconda3\\lib\\site-packages (from datasets) (3.8.4)\n",
      "Requirement already satisfied: huggingface-hub<1.0.0,>=0.11.0 in c:\\users\\vijaykumar\\anaconda3\\lib\\site-packages (from datasets) (0.13.3)\n",
      "Requirement already satisfied: pyyaml>=5.1 in c:\\users\\vijaykumar\\anaconda3\\lib\\site-packages (from datasets) (6.0)\n",
      "Requirement already satisfied: tqdm>=4.62.1 in c:\\users\\vijaykumar\\anaconda3\\lib\\site-packages (from datasets) (4.64.1)\n",
      "Requirement already satisfied: numpy>=1.17 in c:\\users\\vijaykumar\\anaconda3\\lib\\site-packages (from datasets) (1.21.5)\n",
      "Requirement already satisfied: packaging in c:\\users\\vijaykumar\\anaconda3\\lib\\site-packages (from datasets) (21.3)\n",
      "Requirement already satisfied: fsspec[http]>=2021.11.1 in c:\\users\\vijaykumar\\anaconda3\\lib\\site-packages (from datasets) (2022.7.1)\n",
      "Requirement already satisfied: responses<0.19 in c:\\users\\vijaykumar\\anaconda3\\lib\\site-packages (from datasets) (0.18.0)\n",
      "Requirement already satisfied: pandas in c:\\users\\vijaykumar\\anaconda3\\lib\\site-packages (from datasets) (1.4.4)\n",
      "Requirement already satisfied: typing-extensions>=3.7.4.3 in c:\\users\\vijaykumar\\anaconda3\\lib\\site-packages (from huggingface-hub<1.0.0,>=0.11.0->datasets) (4.3.0)\n",
      "Requirement already satisfied: filelock in c:\\users\\vijaykumar\\anaconda3\\lib\\site-packages (from huggingface-hub<1.0.0,>=0.11.0->datasets) (3.6.0)\n",
      "Requirement already satisfied: pyparsing!=3.0.5,>=2.0.2 in c:\\users\\vijaykumar\\anaconda3\\lib\\site-packages (from packaging->datasets) (3.0.9)\n",
      "Requirement already satisfied: charset-normalizer<3,>=2 in c:\\users\\vijaykumar\\anaconda3\\lib\\site-packages (from requests>=2.19.0->datasets) (2.0.4)\n",
      "Requirement already satisfied: certifi>=2017.4.17 in c:\\users\\vijaykumar\\anaconda3\\lib\\site-packages (from requests>=2.19.0->datasets) (2022.9.14)\n",
      "Requirement already satisfied: urllib3<1.27,>=1.21.1 in c:\\users\\vijaykumar\\anaconda3\\lib\\site-packages (from requests>=2.19.0->datasets) (1.26.11)\n",
      "Requirement already satisfied: idna<4,>=2.5 in c:\\users\\vijaykumar\\anaconda3\\lib\\site-packages (from requests>=2.19.0->datasets) (3.3)\n",
      "Requirement already satisfied: colorama in c:\\users\\vijaykumar\\anaconda3\\lib\\site-packages (from tqdm>=4.62.1->datasets) (0.4.5)\n",
      "Requirement already satisfied: frozenlist>=1.1.1 in c:\\users\\vijaykumar\\anaconda3\\lib\\site-packages (from aiohttp->datasets) (1.3.3)\n",
      "Requirement already satisfied: attrs>=17.3.0 in c:\\users\\vijaykumar\\anaconda3\\lib\\site-packages (from aiohttp->datasets) (21.4.0)\n",
      "Requirement already satisfied: async-timeout<5.0,>=4.0.0a3 in c:\\users\\vijaykumar\\anaconda3\\lib\\site-packages (from aiohttp->datasets) (4.0.2)\n",
      "Requirement already satisfied: multidict<7.0,>=4.5 in c:\\users\\vijaykumar\\anaconda3\\lib\\site-packages (from aiohttp->datasets) (6.0.4)\n",
      "Requirement already satisfied: aiosignal>=1.1.2 in c:\\users\\vijaykumar\\anaconda3\\lib\\site-packages (from aiohttp->datasets) (1.3.1)\n",
      "Requirement already satisfied: yarl<2.0,>=1.0 in c:\\users\\vijaykumar\\anaconda3\\lib\\site-packages (from aiohttp->datasets) (1.8.2)\n",
      "Requirement already satisfied: pytz>=2020.1 in c:\\users\\vijaykumar\\anaconda3\\lib\\site-packages (from pandas->datasets) (2022.1)\n",
      "Requirement already satisfied: python-dateutil>=2.8.1 in c:\\users\\vijaykumar\\anaconda3\\lib\\site-packages (from pandas->datasets) (2.8.2)\n",
      "Requirement already satisfied: six>=1.5 in c:\\users\\vijaykumar\\anaconda3\\lib\\site-packages (from python-dateutil>=2.8.1->pandas->datasets) (1.16.0)\n"
     ]
    }
   ],
   "source": [
    "!pip install datasets\n",
    "import pandas as pd\n",
    "import matplotlib.pyplot as plt\n",
    "import seaborn as sns\n",
    "from sklearn.model_selection import train_test_split\n",
    "from sklearn.naive_bayes import GaussianNB\n",
    "from sklearn.metrics import accuracy_score, classification_report\n",
    "from sklearn.svm import LinearSVC,SVC\n",
    "from sklearn.metrics import confusion_matrix\n",
    "import warnings\n",
    "warnings.filterwarnings(\"ignore\")"
   ]
  },
  {
   "cell_type": "code",
   "execution_count": 82,
   "metadata": {},
   "outputs": [],
   "source": [
    "train_titanic_data = pd.read_csv(\"Dataset/train.csv\")\n",
    "test_titanic_data = pd.read_csv(\"Dataset/test.csv\")\n",
    "train_titanic_data = train_titanic_data.drop(['Ticket', 'Cabin','Name','PassengerId'], axis=1)\n",
    "test_titanic_data = test_titanic_data.drop(['Ticket', 'Cabin','Name'], axis=1)"
   ]
  },
  {
   "cell_type": "code",
   "execution_count": 83,
   "metadata": {},
   "outputs": [
    {
     "name": "stdout",
     "output_type": "stream",
     "text": [
      "<class 'pandas.core.frame.DataFrame'>\n",
      "RangeIndex: 891 entries, 0 to 890\n",
      "Data columns (total 8 columns):\n",
      " #   Column    Non-Null Count  Dtype  \n",
      "---  ------    --------------  -----  \n",
      " 0   Survived  891 non-null    int64  \n",
      " 1   Pclass    891 non-null    int64  \n",
      " 2   Sex       891 non-null    object \n",
      " 3   Age       714 non-null    float64\n",
      " 4   SibSp     891 non-null    int64  \n",
      " 5   Parch     891 non-null    int64  \n",
      " 6   Fare      891 non-null    float64\n",
      " 7   Embarked  889 non-null    object \n",
      "dtypes: float64(2), int64(4), object(2)\n",
      "memory usage: 55.8+ KB\n"
     ]
    }
   ],
   "source": [
    "train_titanic_data.info()"
   ]
  },
  {
   "cell_type": "code",
   "execution_count": 84,
   "metadata": {},
   "outputs": [],
   "source": [
    "genders = {\"male\": 1, \"female\": 0}\n",
    "ports = {\"S\": 0, \"C\": 1, \"Q\": 2}\n",
    "train_titanic_data['Sex'] = train_titanic_data['Sex'].map(genders)\n",
    "test_titanic_data['Sex'] = test_titanic_data['Sex'].map(genders)\n",
    "train_titanic_data['Embarked'] = train_titanic_data['Embarked'].map(ports)\n",
    "train_titanic_data['Embarked'] = test_titanic_data['Embarked'].map(ports)\n",
    "train_titanic_data['Age'] = (train_titanic_data.groupby(['SibSp', 'Parch', 'Pclass'])['Age'].transform(lambda x: x.fillna(x.median())))\n",
    "train_titanic_data = train_titanic_data[['Survived','Pclass','Sex','Age','Parch','SibSp','Fare']]\n",
    "test_titanic_data = test_titanic_data[['Pclass','Sex','Age','Parch','SibSp','Fare']]\n",
    "train_titanic_data.dropna(inplace=True)\n",
    "titanic_data = train_titanic_data\n",
    "X=titanic_data.drop(['Survived'],axis=1)\n",
    "y=titanic_data['Survived']"
   ]
  },
  {
   "cell_type": "code",
   "execution_count": 85,
   "metadata": {},
   "outputs": [
    {
     "name": "stdout",
     "output_type": "stream",
     "text": [
      "<class 'pandas.core.frame.DataFrame'>\n",
      "Int64Index: 884 entries, 0 to 890\n",
      "Data columns (total 7 columns):\n",
      " #   Column    Non-Null Count  Dtype  \n",
      "---  ------    --------------  -----  \n",
      " 0   Survived  884 non-null    int64  \n",
      " 1   Pclass    884 non-null    int64  \n",
      " 2   Sex       884 non-null    int64  \n",
      " 3   Age       884 non-null    float64\n",
      " 4   Parch     884 non-null    int64  \n",
      " 5   SibSp     884 non-null    int64  \n",
      " 6   Fare      884 non-null    float64\n",
      "dtypes: float64(2), int64(5)\n",
      "memory usage: 55.2 KB\n"
     ]
    }
   ],
   "source": [
    "train_titanic_data.info()"
   ]
  },
  {
   "cell_type": "code",
   "execution_count": 86,
   "metadata": {},
   "outputs": [
    {
     "data": {
      "text/plain": [
       "array([[<AxesSubplot:title={'center':'Age'}>,\n",
       "        <AxesSubplot:title={'center':'Fare'}>],\n",
       "       [<AxesSubplot:title={'center':'Pclass'}>, <AxesSubplot:>]],\n",
       "      dtype=object)"
      ]
     },
     "execution_count": 86,
     "metadata": {},
     "output_type": "execute_result"
    },
    {
     "data": {
      "image/png": "[encoded data removed]",
      "text/plain": [
       "<Figure size 640x480 with 4 Axes>"
      ]
     },
     "metadata": {},
     "output_type": "display_data"
    }
   ],
   "source": [
    "titanic_data.hist(['Age','Fare','Pclass'])"
   ]
  },
  {
   "cell_type": "code",
   "execution_count": 87,
   "metadata": {},
   "outputs": [
    {
     "data": {
      "text/html": [
       "<div>\n",
       "<style scoped>\n",
       "    .dataframe tbody tr th:only-of-type {\n",
       "        vertical-align: middle;\n",
       "    }\n",
       "\n",
       "    .dataframe tbody tr th {\n",
       "        vertical-align: top;\n",
       "    }\n",
       "\n",
       "    .dataframe thead th {\n",
       "        text-align: right;\n",
       "    }\n",
       "</style>\n",
       "<table border=\"1\" class=\"dataframe\">\n",
       "  <thead>\n",
       "    <tr style=\"text-align: right;\">\n",
       "      <th></th>\n",
       "      <th>Survived</th>\n",
       "      <th>Sex</th>\n",
       "    </tr>\n",
       "  </thead>\n",
       "  <tbody>\n",
       "    <tr>\n",
       "      <th>Survived</th>\n",
       "      <td>1.000000</td>\n",
       "      <td>-0.548066</td>\n",
       "    </tr>\n",
       "    <tr>\n",
       "      <th>Sex</th>\n",
       "      <td>-0.548066</td>\n",
       "      <td>1.000000</td>\n",
       "    </tr>\n",
       "  </tbody>\n",
       "</table>\n",
       "</div>"
      ],
      "text/plain": [
       "          Survived       Sex\n",
       "Survived  1.000000 -0.548066\n",
       "Sex      -0.548066  1.000000"
      ]
     },
     "execution_count": 87,
     "metadata": {},
     "output_type": "execute_result"
    }
   ],
   "source": [
    "titanic_data[['Survived','Sex']].corr()"
   ]
  },
  {
   "cell_type": "code",
   "execution_count": 88,
   "metadata": {},
   "outputs": [
    {
     "name": "stdout",
     "output_type": "stream",
     "text": [
      "   Sex  Survived\n",
      "0    0  0.749196\n",
      "1    1  0.190227\n"
     ]
    }
   ],
   "source": [
    "print(titanic_data[[\"Sex\", \"Survived\"]].groupby(['Sex'], as_index=False).mean().sort_values(by='Survived', ascending=False))"
   ]
  },
  {
   "cell_type": "code",
   "execution_count": 91,
   "metadata": {},
   "outputs": [
    {
     "ename": "SyntaxError",
     "evalue": "EOF while scanning triple-quoted string literal (2769047161.py, line 11)",
     "output_type": "error",
     "traceback": [
      "\u001b[1;36m  File \u001b[1;32m\"C:\\Users\\vijaykumar\\AppData\\Local\\Temp\\ipykernel_2724\\2769047161.py\"\u001b[1;36m, line \u001b[1;32m11\u001b[0m\n\u001b[1;33m    Therefore, Sex is an Important Feature for the Survival chances\u001b[0m\n\u001b[1;37m                                                                   \n^\u001b[0m\n\u001b[1;31mSyntaxError\u001b[0m\u001b[1;31m:\u001b[0m EOF while scanning triple-quoted string literal\n"
     ]
    }
   ],
   "source": [
    "#Correlation Relation Between Survived and Sex:\n",
    "# Do you think we should keep this feature?\n",
    "''' \n",
    "As we can see in the above correlation plot, age has good impact on the survival factor more in the female category \n",
    "while compared to in the male category. The correlation value of negative 0.54 is considered as a weak relation but \n",
    "when we take a look at the correlation matrix of the dataframe, Sex is the column that has the second highest impact(absolute value) on the target column.'''\n",
    "\n",
    "'''-0.548066 - A moderate negative (downhill sloping) relationship\n",
    "The correlation is clearly seen when the Sex (Male, Female) changes the survival chances changes because, When Sex is Female , there is a high chance of Survival and vice versa\n",
    "\n",
    "Therefore, Sex is an Important Feature for the Survival chances\n"
   ]
  },
  {
   "cell_type": "code",
   "execution_count": 92,
   "metadata": {},
   "outputs": [
    {
     "data": {
      "image/png": "[encoded data removed]",
      "text/plain": [
       "<Figure size 640x480 with 2 Axes>"
      ]
     },
     "metadata": {},
     "output_type": "display_data"
    }
   ],
   "source": [
    "sns.heatmap(titanic_data.corr(), annot=True)\n",
    "plt.show()"
   ]
  },
  {
   "cell_type": "code",
   "execution_count": 20,
   "metadata": {},
   "outputs": [
    {
     "data": {
      "image/png": "[encoded data removed]",
      "text/plain": [
       "<Figure size 1000x400 with 2 Axes>"
      ]
     },
     "metadata": {},
     "output_type": "display_data"
    }
   ],
   "source": [
    "survived = 'survived'\n",
    "not_survived = 'not survived'\n",
    "fig, axes = plt.subplots(nrows=1, ncols=2,figsize=(10, 4))\n",
    "female = titanic_data[titanic_data['Sex']==0]\n",
    "men = titanic_data[titanic_data['Sex']==1]\n",
    "ax = sns.distplot(female[female['Survived']==1].Age.dropna(), bins=18, label = survived, ax = axes[0], kde =False)\n",
    "ax = sns.distplot(female[female['Survived']==0].Age.dropna(), bins=40, label = not_survived, ax = axes[0], kde =False)\n",
    "ax.legend()\n",
    "ax.set_title('Female')\n",
    "ax = sns.distplot(men[men['Survived']==1].Age.dropna(), bins=18, label = survived, ax = axes[1], kde = False)\n",
    "ax = sns.distplot(men[men['Survived']==0].Age.dropna(), bins=40, label = not_survived, ax = axes[1], kde = False)\n",
    "ax.legend()\n",
    "_ = ax.set_title('Male')"
   ]
  },
  {
   "cell_type": "code",
   "execution_count": 21,
   "metadata": {},
   "outputs": [],
   "source": [
    "X_train, X_test, y_train, y_test = train_test_split(X, y, test_size=0.25, random_state=0)\n",
    "gnb = GaussianNB()\n",
    "y_pred = gnb.fit(X_train, y_train).predict(X_test)"
   ]
  },
  {
   "cell_type": "code",
   "execution_count": 22,
   "metadata": {},
   "outputs": [
    {
     "data": {
      "text/plain": [
       "0.7737556561085973"
      ]
     },
     "execution_count": 22,
     "metadata": {},
     "output_type": "execute_result"
    }
   ],
   "source": [
    "accuracy_score(y_test,y_pred)"
   ]
  },
  {
   "cell_type": "code",
   "execution_count": 25,
   "metadata": {},
   "outputs": [],
   "source": [
    "glass_data = pd.read_csv(\"Dataset/glass.csv\")\n"
   ]
  },
  {
   "cell_type": "code",
   "execution_count": 26,
   "metadata": {},
   "outputs": [],
   "source": [
    "y=glass_data[\"Type\"]\n",
    "X=glass_data.drop([\"Type\"],axis=1)"
   ]
  },
  {
   "cell_type": "code",
   "execution_count": 79,
   "metadata": {},
   "outputs": [
    {
     "name": "stdout",
     "output_type": "stream",
     "text": [
      "<class 'pandas.core.frame.DataFrame'>\n",
      "RangeIndex: 214 entries, 0 to 213\n",
      "Data columns (total 10 columns):\n",
      " #   Column  Non-Null Count  Dtype  \n",
      "---  ------  --------------  -----  \n",
      " 0   RI      214 non-null    float64\n",
      " 1   Na      214 non-null    float64\n",
      " 2   Mg      214 non-null    float64\n",
      " 3   Al      214 non-null    float64\n",
      " 4   Si      214 non-null    float64\n",
      " 5   K       214 non-null    float64\n",
      " 6   Ca      214 non-null    float64\n",
      " 7   Ba      214 non-null    float64\n",
      " 8   Fe      214 non-null    float64\n",
      " 9   Type    214 non-null    int64  \n",
      "dtypes: float64(9), int64(1)\n",
      "memory usage: 16.8 KB\n"
     ]
    }
   ],
   "source": [
    "glass_data.info()"
   ]
  },
  {
   "cell_type": "code",
   "execution_count": 28,
   "metadata": {},
   "outputs": [],
   "source": [
    "X_train, X_test, y_train, y_test = train_test_split(X, y, test_size=0.25, random_state=0)\n",
    "gnb = GaussianNB()\n",
    "y_pred = gnb.fit(X_train, y_train).predict(X_test)"
   ]
  },
  {
   "cell_type": "code",
   "execution_count": 29,
   "metadata": {},
   "outputs": [
    {
     "data": {
      "text/plain": [
       "0.46296296296296297"
      ]
     },
     "execution_count": 29,
     "metadata": {},
     "output_type": "execute_result"
    }
   ],
   "source": [
    "accuracy_score(y_test,y_pred)"
   ]
  },
  {
   "cell_type": "code",
   "execution_count": 30,
   "metadata": {},
   "outputs": [
    {
     "data": {
      "text/plain": [
       "{'1': {'precision': 0.32142857142857145,\n",
       "  'recall': 0.6428571428571429,\n",
       "  'f1-score': 0.4285714285714286,\n",
       "  'support': 14},\n",
       " '2': {'precision': 0.45454545454545453,\n",
       "  'recall': 0.20833333333333334,\n",
       "  'f1-score': 0.28571428571428575,\n",
       "  'support': 24},\n",
       " '3': {'precision': 0.5,\n",
       "  'recall': 0.4,\n",
       "  'f1-score': 0.4444444444444445,\n",
       "  'support': 5},\n",
       " '5': {'precision': 0.0, 'recall': 0.0, 'f1-score': 0.0, 'support': 2},\n",
       " '6': {'precision': 0.6666666666666666,\n",
       "  'recall': 1.0,\n",
       "  'f1-score': 0.8,\n",
       "  'support': 2},\n",
       " '7': {'precision': 1.0, 'recall': 1.0, 'f1-score': 1.0, 'support': 7},\n",
       " 'accuracy': 0.46296296296296297,\n",
       " 'macro avg': {'precision': 0.49044011544011545,\n",
       "  'recall': 0.5418650793650793,\n",
       "  'f1-score': 0.4931216931216931,\n",
       "  'support': 54},\n",
       " 'weighted avg': {'precision': 0.4859708193041526,\n",
       "  'recall': 0.46296296296296297,\n",
       "  'f1-score': 0.438506760728983,\n",
       "  'support': 54}}"
      ]
     },
     "execution_count": 30,
     "metadata": {},
     "output_type": "execute_result"
    }
   ],
   "source": [
    "classification_report(y_test, y_pred,output_dict=True,zero_division=1)"
   ]
  },
  {
   "cell_type": "code",
   "execution_count": 31,
   "metadata": {},
   "outputs": [
    {
     "data": {
      "text/plain": [
       "0.25925925925925924"
      ]
     },
     "execution_count": 31,
     "metadata": {},
     "output_type": "execute_result"
    }
   ],
   "source": [
    "svc = SVC(max_iter=500000)\n",
    "y_pred = svc.fit(X_train, y_train).predict(X_test)\n",
    "accuracy_score(y_test,y_pred)"
   ]
  },
  {
   "cell_type": "code",
   "execution_count": 32,
   "metadata": {},
   "outputs": [
    {
     "data": {
      "text/plain": [
       "{'1': {'precision': 0.25925925925925924,\n",
       "  'recall': 1.0,\n",
       "  'f1-score': 0.4117647058823529,\n",
       "  'support': 14},\n",
       " '2': {'precision': 1.0, 'recall': 0.0, 'f1-score': 0.0, 'support': 24},\n",
       " '3': {'precision': 1.0, 'recall': 0.0, 'f1-score': 0.0, 'support': 5},\n",
       " '5': {'precision': 1.0, 'recall': 0.0, 'f1-score': 0.0, 'support': 2},\n",
       " '6': {'precision': 1.0, 'recall': 0.0, 'f1-score': 0.0, 'support': 2},\n",
       " '7': {'precision': 1.0, 'recall': 0.0, 'f1-score': 0.0, 'support': 7},\n",
       " 'accuracy': 0.25925925925925924,\n",
       " 'macro avg': {'precision': 0.8765432098765432,\n",
       "  'recall': 0.16666666666666666,\n",
       "  'f1-score': 0.06862745098039215,\n",
       "  'support': 54},\n",
       " 'weighted avg': {'precision': 0.8079561042524006,\n",
       "  'recall': 0.25925925925925924,\n",
       "  'f1-score': 0.10675381263616558,\n",
       "  'support': 54}}"
      ]
     },
     "execution_count": 32,
     "metadata": {},
     "output_type": "execute_result"
    }
   ],
   "source": [
    "classification_report(y_test, y_pred,output_dict=True,zero_division=1)"
   ]
  },
  {
   "cell_type": "code",
   "execution_count": 33,
   "metadata": {},
   "outputs": [
    {
     "data": {
      "text/plain": [
       "0.5925925925925926"
      ]
     },
     "execution_count": 33,
     "metadata": {},
     "output_type": "execute_result"
    }
   ],
   "source": [
    "linear_svc = LinearSVC(max_iter=500000)\n",
    "y_pred = linear_svc.fit(X_train, y_train).predict(X_test)\n",
    "accuracy_score(y_test,y_pred)"
   ]
  },
  {
   "cell_type": "code",
   "execution_count": 36,
   "metadata": {},
   "outputs": [
    {
     "data": {
      "text/plain": [
       "{'1': {'precision': 0.48,\n",
       "  'recall': 0.8571428571428571,\n",
       "  'f1-score': 0.6153846153846153,\n",
       "  'support': 14},\n",
       " '2': {'precision': 0.631578947368421,\n",
       "  'recall': 0.5,\n",
       "  'f1-score': 0.5581395348837209,\n",
       "  'support': 24},\n",
       " '3': {'precision': 1.0, 'recall': 0.0, 'f1-score': 0.0, 'support': 5},\n",
       " '5': {'precision': 0.0, 'recall': 0.0, 'f1-score': 0.0, 'support': 2},\n",
       " '6': {'precision': 0.5, 'recall': 0.5, 'f1-score': 0.5, 'support': 2},\n",
       " '7': {'precision': 1.0, 'recall': 1.0, 'f1-score': 1.0, 'support': 7},\n",
       " 'accuracy': 0.5925925925925926,\n",
       " 'macro avg': {'precision': 0.6019298245614034,\n",
       "  'recall': 0.4761904761904762,\n",
       "  'f1-score': 0.445587358378056,\n",
       "  'support': 54},\n",
       " 'weighted avg': {'precision': 0.6458869395711502,\n",
       "  'recall': 0.5925925925925926,\n",
       "  'f1-score': 0.5557543231961837,\n",
       "  'support': 54}}"
      ]
     },
     "execution_count": 36,
     "metadata": {},
     "output_type": "execute_result"
    }
   ],
   "source": [
    "classification_report(y_test, y_pred,output_dict=True,zero_division=1)"
   ]
  },
  {
   "cell_type": "code",
   "execution_count": 38,
   "metadata": {},
   "outputs": [
    {
     "data": {
      "text/html": [
       "<style type=\"text/css\">\n",
       "#T_bcb51_row0_col0, #T_bcb51_row1_col1, #T_bcb51_row2_col2, #T_bcb51_row3_col3, #T_bcb51_row4_col4, #T_bcb51_row5_col5, #T_bcb51_row6_col6, #T_bcb51_row7_col7, #T_bcb51_row8_col8, #T_bcb51_row9_col9 {\n",
       "  background-color: #08306b;\n",
       "  color: #f1f1f1;\n",
       "}\n",
       "#T_bcb51_row0_col1 {\n",
       "  background-color: #eaf3fb;\n",
       "  color: #000000;\n",
       "}\n",
       "#T_bcb51_row0_col2 {\n",
       "  background-color: #a4cce3;\n",
       "  color: #000000;\n",
       "}\n",
       "#T_bcb51_row0_col3 {\n",
       "  background-color: #eef5fc;\n",
       "  color: #000000;\n",
       "}\n",
       "#T_bcb51_row0_col4, #T_bcb51_row1_col8, #T_bcb51_row2_col1, #T_bcb51_row2_col3, #T_bcb51_row2_col6, #T_bcb51_row2_col7, #T_bcb51_row2_col9, #T_bcb51_row4_col0, #T_bcb51_row6_col1, #T_bcb51_row6_col5, #T_bcb51_row9_col2 {\n",
       "  background-color: #f7fbff;\n",
       "  color: #000000;\n",
       "}\n",
       "#T_bcb51_row0_col5 {\n",
       "  background-color: #f3f8fe;\n",
       "  color: #000000;\n",
       "}\n",
       "#T_bcb51_row0_col6 {\n",
       "  background-color: #09529d;\n",
       "  color: #f1f1f1;\n",
       "}\n",
       "#T_bcb51_row0_col7, #T_bcb51_row4_col2 {\n",
       "  background-color: #add0e6;\n",
       "  color: #000000;\n",
       "}\n",
       "#T_bcb51_row0_col8 {\n",
       "  background-color: #b3d3e8;\n",
       "  color: #000000;\n",
       "}\n",
       "#T_bcb51_row0_col9 {\n",
       "  background-color: #abd0e6;\n",
       "  color: #000000;\n",
       "}\n",
       "#T_bcb51_row1_col0, #T_bcb51_row7_col6 {\n",
       "  background-color: #cadef0;\n",
       "  color: #000000;\n",
       "}\n",
       "#T_bcb51_row1_col2, #T_bcb51_row2_col0 {\n",
       "  background-color: #bfd8ed;\n",
       "  color: #000000;\n",
       "}\n",
       "#T_bcb51_row1_col3, #T_bcb51_row5_col2 {\n",
       "  background-color: #87bddc;\n",
       "  color: #000000;\n",
       "}\n",
       "#T_bcb51_row1_col4, #T_bcb51_row9_col6 {\n",
       "  background-color: #b4d3e9;\n",
       "  color: #000000;\n",
       "}\n",
       "#T_bcb51_row1_col5, #T_bcb51_row9_col8 {\n",
       "  background-color: #eff6fc;\n",
       "  color: #000000;\n",
       "}\n",
       "#T_bcb51_row1_col6 {\n",
       "  background-color: #e0ecf8;\n",
       "  color: #000000;\n",
       "}\n",
       "#T_bcb51_row1_col7 {\n",
       "  background-color: #5ba3d0;\n",
       "  color: #f1f1f1;\n",
       "}\n",
       "#T_bcb51_row1_col9, #T_bcb51_row9_col7 {\n",
       "  background-color: #2a7ab9;\n",
       "  color: #f1f1f1;\n",
       "}\n",
       "#T_bcb51_row2_col4, #T_bcb51_row2_col5, #T_bcb51_row9_col0 {\n",
       "  background-color: #c7dcef;\n",
       "  color: #000000;\n",
       "}\n",
       "#T_bcb51_row2_col8, #T_bcb51_row4_col7 {\n",
       "  background-color: #c3daee;\n",
       "  color: #000000;\n",
       "}\n",
       "#T_bcb51_row3_col0, #T_bcb51_row5_col6 {\n",
       "  background-color: #e6f0f9;\n",
       "  color: #000000;\n",
       "}\n",
       "#T_bcb51_row3_col1 {\n",
       "  background-color: #aacfe5;\n",
       "  color: #000000;\n",
       "}\n",
       "#T_bcb51_row3_col2, #T_bcb51_row6_col3 {\n",
       "  background-color: #d9e8f5;\n",
       "  color: #000000;\n",
       "}\n",
       "#T_bcb51_row3_col4, #T_bcb51_row7_col0 {\n",
       "  background-color: #a6cee4;\n",
       "  color: #000000;\n",
       "}\n",
       "#T_bcb51_row3_col5 {\n",
       "  background-color: #6fb0d7;\n",
       "  color: #f1f1f1;\n",
       "}\n",
       "#T_bcb51_row3_col6 {\n",
       "  background-color: #deebf7;\n",
       "  color: #000000;\n",
       "}\n",
       "#T_bcb51_row3_col7, #T_bcb51_row7_col3 {\n",
       "  background-color: #3b8bc2;\n",
       "  color: #f1f1f1;\n",
       "}\n",
       "#T_bcb51_row3_col8 {\n",
       "  background-color: #dceaf6;\n",
       "  color: #000000;\n",
       "}\n",
       "#T_bcb51_row3_col9 {\n",
       "  background-color: #1c6bb0;\n",
       "  color: #f1f1f1;\n",
       "}\n",
       "#T_bcb51_row4_col1, #T_bcb51_row4_col6, #T_bcb51_row5_col0 {\n",
       "  background-color: #d7e6f5;\n",
       "  color: #000000;\n",
       "}\n",
       "#T_bcb51_row4_col3 {\n",
       "  background-color: #afd1e7;\n",
       "  color: #000000;\n",
       "}\n",
       "#T_bcb51_row4_col5 {\n",
       "  background-color: #e4eff9;\n",
       "  color: #000000;\n",
       "}\n",
       "#T_bcb51_row4_col8 {\n",
       "  background-color: #dfecf7;\n",
       "  color: #000000;\n",
       "}\n",
       "#T_bcb51_row4_col9 {\n",
       "  background-color: #66abd4;\n",
       "  color: #f1f1f1;\n",
       "}\n",
       "#T_bcb51_row5_col1 {\n",
       "  background-color: #f6faff;\n",
       "  color: #000000;\n",
       "}\n",
       "#T_bcb51_row5_col3 {\n",
       "  background-color: #5ca4d0;\n",
       "  color: #f1f1f1;\n",
       "}\n",
       "#T_bcb51_row5_col4 {\n",
       "  background-color: #cbdef1;\n",
       "  color: #000000;\n",
       "}\n",
       "#T_bcb51_row5_col7 {\n",
       "  background-color: #b5d4e9;\n",
       "  color: #000000;\n",
       "}\n",
       "#T_bcb51_row5_col8 {\n",
       "  background-color: #d2e3f3;\n",
       "  color: #000000;\n",
       "}\n",
       "#T_bcb51_row5_col9 {\n",
       "  background-color: #8cc0dd;\n",
       "  color: #000000;\n",
       "}\n",
       "#T_bcb51_row6_col0 {\n",
       "  background-color: #08509b;\n",
       "  color: #f1f1f1;\n",
       "}\n",
       "#T_bcb51_row6_col2 {\n",
       "  background-color: #d5e5f4;\n",
       "  color: #000000;\n",
       "}\n",
       "#T_bcb51_row6_col4 {\n",
       "  background-color: #cddff1;\n",
       "  color: #000000;\n",
       "}\n",
       "#T_bcb51_row6_col7 {\n",
       "  background-color: #c4daee;\n",
       "  color: #000000;\n",
       "}\n",
       "#T_bcb51_row6_col8 {\n",
       "  background-color: #b8d5ea;\n",
       "  color: #000000;\n",
       "}\n",
       "#T_bcb51_row6_col9 {\n",
       "  background-color: #89bedc;\n",
       "  color: #000000;\n",
       "}\n",
       "#T_bcb51_row7_col1 {\n",
       "  background-color: #77b5d9;\n",
       "  color: #000000;\n",
       "}\n",
       "#T_bcb51_row7_col2, #T_bcb51_row7_col8 {\n",
       "  background-color: #dae8f6;\n",
       "  color: #000000;\n",
       "}\n",
       "#T_bcb51_row7_col4 {\n",
       "  background-color: #bad6eb;\n",
       "  color: #000000;\n",
       "}\n",
       "#T_bcb51_row7_col5 {\n",
       "  background-color: #cee0f2;\n",
       "  color: #000000;\n",
       "}\n",
       "#T_bcb51_row7_col9 {\n",
       "  background-color: #206fb4;\n",
       "  color: #f1f1f1;\n",
       "}\n",
       "#T_bcb51_row8_col0 {\n",
       "  background-color: #82bbdb;\n",
       "  color: #000000;\n",
       "}\n",
       "#T_bcb51_row8_col1 {\n",
       "  background-color: #f2f8fd;\n",
       "  color: #000000;\n",
       "}\n",
       "#T_bcb51_row8_col2 {\n",
       "  background-color: #75b4d8;\n",
       "  color: #000000;\n",
       "}\n",
       "#T_bcb51_row8_col3 {\n",
       "  background-color: #bed8ec;\n",
       "  color: #000000;\n",
       "}\n",
       "#T_bcb51_row8_col4, #T_bcb51_row8_col7 {\n",
       "  background-color: #b9d6ea;\n",
       "  color: #000000;\n",
       "}\n",
       "#T_bcb51_row8_col5 {\n",
       "  background-color: #c9ddf0;\n",
       "  color: #000000;\n",
       "}\n",
       "#T_bcb51_row8_col6 {\n",
       "  background-color: #97c6df;\n",
       "  color: #000000;\n",
       "}\n",
       "#T_bcb51_row8_col9 {\n",
       "  background-color: #b0d2e7;\n",
       "  color: #000000;\n",
       "}\n",
       "#T_bcb51_row9_col1 {\n",
       "  background-color: #4695c8;\n",
       "  color: #f1f1f1;\n",
       "}\n",
       "#T_bcb51_row9_col3 {\n",
       "  background-color: #2676b8;\n",
       "  color: #f1f1f1;\n",
       "}\n",
       "#T_bcb51_row9_col4 {\n",
       "  background-color: #7fb9da;\n",
       "  color: #000000;\n",
       "}\n",
       "#T_bcb51_row9_col5 {\n",
       "  background-color: #caddf0;\n",
       "  color: #000000;\n",
       "}\n",
       "</style>\n",
       "<table id=\"T_bcb51\">\n",
       "  <thead>\n",
       "    <tr>\n",
       "      <th class=\"blank level0\" >&nbsp;</th>\n",
       "      <th id=\"T_bcb51_level0_col0\" class=\"col_heading level0 col0\" >RI</th>\n",
       "      <th id=\"T_bcb51_level0_col1\" class=\"col_heading level0 col1\" >Na</th>\n",
       "      <th id=\"T_bcb51_level0_col2\" class=\"col_heading level0 col2\" >Mg</th>\n",
       "      <th id=\"T_bcb51_level0_col3\" class=\"col_heading level0 col3\" >Al</th>\n",
       "      <th id=\"T_bcb51_level0_col4\" class=\"col_heading level0 col4\" >Si</th>\n",
       "      <th id=\"T_bcb51_level0_col5\" class=\"col_heading level0 col5\" >K</th>\n",
       "      <th id=\"T_bcb51_level0_col6\" class=\"col_heading level0 col6\" >Ca</th>\n",
       "      <th id=\"T_bcb51_level0_col7\" class=\"col_heading level0 col7\" >Ba</th>\n",
       "      <th id=\"T_bcb51_level0_col8\" class=\"col_heading level0 col8\" >Fe</th>\n",
       "      <th id=\"T_bcb51_level0_col9\" class=\"col_heading level0 col9\" >Type</th>\n",
       "    </tr>\n",
       "  </thead>\n",
       "  <tbody>\n",
       "    <tr>\n",
       "      <th id=\"T_bcb51_level0_row0\" class=\"row_heading level0 row0\" >RI</th>\n",
       "      <td id=\"T_bcb51_row0_col0\" class=\"data row0 col0\" >1.000000</td>\n",
       "      <td id=\"T_bcb51_row0_col1\" class=\"data row0 col1\" >-0.191885</td>\n",
       "      <td id=\"T_bcb51_row0_col2\" class=\"data row0 col2\" >-0.122274</td>\n",
       "      <td id=\"T_bcb51_row0_col3\" class=\"data row0 col3\" >-0.407326</td>\n",
       "      <td id=\"T_bcb51_row0_col4\" class=\"data row0 col4\" >-0.542052</td>\n",
       "      <td id=\"T_bcb51_row0_col5\" class=\"data row0 col5\" >-0.289833</td>\n",
       "      <td id=\"T_bcb51_row0_col6\" class=\"data row0 col6\" >0.810403</td>\n",
       "      <td id=\"T_bcb51_row0_col7\" class=\"data row0 col7\" >-0.000386</td>\n",
       "      <td id=\"T_bcb51_row0_col8\" class=\"data row0 col8\" >0.143010</td>\n",
       "      <td id=\"T_bcb51_row0_col9\" class=\"data row0 col9\" >-0.164237</td>\n",
       "    </tr>\n",
       "    <tr>\n",
       "      <th id=\"T_bcb51_level0_row1\" class=\"row_heading level0 row1\" >Na</th>\n",
       "      <td id=\"T_bcb51_row1_col0\" class=\"data row1 col0\" >-0.191885</td>\n",
       "      <td id=\"T_bcb51_row1_col1\" class=\"data row1 col1\" >1.000000</td>\n",
       "      <td id=\"T_bcb51_row1_col2\" class=\"data row1 col2\" >-0.273732</td>\n",
       "      <td id=\"T_bcb51_row1_col3\" class=\"data row1 col3\" >0.156794</td>\n",
       "      <td id=\"T_bcb51_row1_col4\" class=\"data row1 col4\" >-0.069809</td>\n",
       "      <td id=\"T_bcb51_row1_col5\" class=\"data row1 col5\" >-0.266087</td>\n",
       "      <td id=\"T_bcb51_row1_col6\" class=\"data row1 col6\" >-0.275442</td>\n",
       "      <td id=\"T_bcb51_row1_col7\" class=\"data row1 col7\" >0.326603</td>\n",
       "      <td id=\"T_bcb51_row1_col8\" class=\"data row1 col8\" >-0.241346</td>\n",
       "      <td id=\"T_bcb51_row1_col9\" class=\"data row1 col9\" >0.502898</td>\n",
       "    </tr>\n",
       "    <tr>\n",
       "      <th id=\"T_bcb51_level0_row2\" class=\"row_heading level0 row2\" >Mg</th>\n",
       "      <td id=\"T_bcb51_row2_col0\" class=\"data row2 col0\" >-0.122274</td>\n",
       "      <td id=\"T_bcb51_row2_col1\" class=\"data row2 col1\" >-0.273732</td>\n",
       "      <td id=\"T_bcb51_row2_col2\" class=\"data row2 col2\" >1.000000</td>\n",
       "      <td id=\"T_bcb51_row2_col3\" class=\"data row2 col3\" >-0.481799</td>\n",
       "      <td id=\"T_bcb51_row2_col4\" class=\"data row2 col4\" >-0.165927</td>\n",
       "      <td id=\"T_bcb51_row2_col5\" class=\"data row2 col5\" >0.005396</td>\n",
       "      <td id=\"T_bcb51_row2_col6\" class=\"data row2 col6\" >-0.443750</td>\n",
       "      <td id=\"T_bcb51_row2_col7\" class=\"data row2 col7\" >-0.492262</td>\n",
       "      <td id=\"T_bcb51_row2_col8\" class=\"data row2 col8\" >0.083060</td>\n",
       "      <td id=\"T_bcb51_row2_col9\" class=\"data row2 col9\" >-0.744993</td>\n",
       "    </tr>\n",
       "    <tr>\n",
       "      <th id=\"T_bcb51_level0_row3\" class=\"row_heading level0 row3\" >Al</th>\n",
       "      <td id=\"T_bcb51_row3_col0\" class=\"data row3 col0\" >-0.407326</td>\n",
       "      <td id=\"T_bcb51_row3_col1\" class=\"data row3 col1\" >0.156794</td>\n",
       "      <td id=\"T_bcb51_row3_col2\" class=\"data row3 col2\" >-0.481799</td>\n",
       "      <td id=\"T_bcb51_row3_col3\" class=\"data row3 col3\" >1.000000</td>\n",
       "      <td id=\"T_bcb51_row3_col4\" class=\"data row3 col4\" >-0.005524</td>\n",
       "      <td id=\"T_bcb51_row3_col5\" class=\"data row3 col5\" >0.325958</td>\n",
       "      <td id=\"T_bcb51_row3_col6\" class=\"data row3 col6\" >-0.259592</td>\n",
       "      <td id=\"T_bcb51_row3_col7\" class=\"data row3 col7\" >0.479404</td>\n",
       "      <td id=\"T_bcb51_row3_col8\" class=\"data row3 col8\" >-0.074402</td>\n",
       "      <td id=\"T_bcb51_row3_col9\" class=\"data row3 col9\" >0.598829</td>\n",
       "    </tr>\n",
       "    <tr>\n",
       "      <th id=\"T_bcb51_level0_row4\" class=\"row_heading level0 row4\" >Si</th>\n",
       "      <td id=\"T_bcb51_row4_col0\" class=\"data row4 col0\" >-0.542052</td>\n",
       "      <td id=\"T_bcb51_row4_col1\" class=\"data row4 col1\" >-0.069809</td>\n",
       "      <td id=\"T_bcb51_row4_col2\" class=\"data row4 col2\" >-0.165927</td>\n",
       "      <td id=\"T_bcb51_row4_col3\" class=\"data row4 col3\" >-0.005524</td>\n",
       "      <td id=\"T_bcb51_row4_col4\" class=\"data row4 col4\" >1.000000</td>\n",
       "      <td id=\"T_bcb51_row4_col5\" class=\"data row4 col5\" >-0.193331</td>\n",
       "      <td id=\"T_bcb51_row4_col6\" class=\"data row4 col6\" >-0.208732</td>\n",
       "      <td id=\"T_bcb51_row4_col7\" class=\"data row4 col7\" >-0.102151</td>\n",
       "      <td id=\"T_bcb51_row4_col8\" class=\"data row4 col8\" >-0.094201</td>\n",
       "      <td id=\"T_bcb51_row4_col9\" class=\"data row4 col9\" >0.151565</td>\n",
       "    </tr>\n",
       "    <tr>\n",
       "      <th id=\"T_bcb51_level0_row5\" class=\"row_heading level0 row5\" >K</th>\n",
       "      <td id=\"T_bcb51_row5_col0\" class=\"data row5 col0\" >-0.289833</td>\n",
       "      <td id=\"T_bcb51_row5_col1\" class=\"data row5 col1\" >-0.266087</td>\n",
       "      <td id=\"T_bcb51_row5_col2\" class=\"data row5 col2\" >0.005396</td>\n",
       "      <td id=\"T_bcb51_row5_col3\" class=\"data row5 col3\" >0.325958</td>\n",
       "      <td id=\"T_bcb51_row5_col4\" class=\"data row5 col4\" >-0.193331</td>\n",
       "      <td id=\"T_bcb51_row5_col5\" class=\"data row5 col5\" >1.000000</td>\n",
       "      <td id=\"T_bcb51_row5_col6\" class=\"data row5 col6\" >-0.317836</td>\n",
       "      <td id=\"T_bcb51_row5_col7\" class=\"data row5 col7\" >-0.042618</td>\n",
       "      <td id=\"T_bcb51_row5_col8\" class=\"data row5 col8\" >-0.007719</td>\n",
       "      <td id=\"T_bcb51_row5_col9\" class=\"data row5 col9\" >-0.010054</td>\n",
       "    </tr>\n",
       "    <tr>\n",
       "      <th id=\"T_bcb51_level0_row6\" class=\"row_heading level0 row6\" >Ca</th>\n",
       "      <td id=\"T_bcb51_row6_col0\" class=\"data row6 col0\" >0.810403</td>\n",
       "      <td id=\"T_bcb51_row6_col1\" class=\"data row6 col1\" >-0.275442</td>\n",
       "      <td id=\"T_bcb51_row6_col2\" class=\"data row6 col2\" >-0.443750</td>\n",
       "      <td id=\"T_bcb51_row6_col3\" class=\"data row6 col3\" >-0.259592</td>\n",
       "      <td id=\"T_bcb51_row6_col4\" class=\"data row6 col4\" >-0.208732</td>\n",
       "      <td id=\"T_bcb51_row6_col5\" class=\"data row6 col5\" >-0.317836</td>\n",
       "      <td id=\"T_bcb51_row6_col6\" class=\"data row6 col6\" >1.000000</td>\n",
       "      <td id=\"T_bcb51_row6_col7\" class=\"data row6 col7\" >-0.112841</td>\n",
       "      <td id=\"T_bcb51_row6_col8\" class=\"data row6 col8\" >0.124968</td>\n",
       "      <td id=\"T_bcb51_row6_col9\" class=\"data row6 col9\" >0.000952</td>\n",
       "    </tr>\n",
       "    <tr>\n",
       "      <th id=\"T_bcb51_level0_row7\" class=\"row_heading level0 row7\" >Ba</th>\n",
       "      <td id=\"T_bcb51_row7_col0\" class=\"data row7 col0\" >-0.000386</td>\n",
       "      <td id=\"T_bcb51_row7_col1\" class=\"data row7 col1\" >0.326603</td>\n",
       "      <td id=\"T_bcb51_row7_col2\" class=\"data row7 col2\" >-0.492262</td>\n",
       "      <td id=\"T_bcb51_row7_col3\" class=\"data row7 col3\" >0.479404</td>\n",
       "      <td id=\"T_bcb51_row7_col4\" class=\"data row7 col4\" >-0.102151</td>\n",
       "      <td id=\"T_bcb51_row7_col5\" class=\"data row7 col5\" >-0.042618</td>\n",
       "      <td id=\"T_bcb51_row7_col6\" class=\"data row7 col6\" >-0.112841</td>\n",
       "      <td id=\"T_bcb51_row7_col7\" class=\"data row7 col7\" >1.000000</td>\n",
       "      <td id=\"T_bcb51_row7_col8\" class=\"data row7 col8\" >-0.058692</td>\n",
       "      <td id=\"T_bcb51_row7_col9\" class=\"data row7 col9\" >0.575161</td>\n",
       "    </tr>\n",
       "    <tr>\n",
       "      <th id=\"T_bcb51_level0_row8\" class=\"row_heading level0 row8\" >Fe</th>\n",
       "      <td id=\"T_bcb51_row8_col0\" class=\"data row8 col0\" >0.143010</td>\n",
       "      <td id=\"T_bcb51_row8_col1\" class=\"data row8 col1\" >-0.241346</td>\n",
       "      <td id=\"T_bcb51_row8_col2\" class=\"data row8 col2\" >0.083060</td>\n",
       "      <td id=\"T_bcb51_row8_col3\" class=\"data row8 col3\" >-0.074402</td>\n",
       "      <td id=\"T_bcb51_row8_col4\" class=\"data row8 col4\" >-0.094201</td>\n",
       "      <td id=\"T_bcb51_row8_col5\" class=\"data row8 col5\" >-0.007719</td>\n",
       "      <td id=\"T_bcb51_row8_col6\" class=\"data row8 col6\" >0.124968</td>\n",
       "      <td id=\"T_bcb51_row8_col7\" class=\"data row8 col7\" >-0.058692</td>\n",
       "      <td id=\"T_bcb51_row8_col8\" class=\"data row8 col8\" >1.000000</td>\n",
       "      <td id=\"T_bcb51_row8_col9\" class=\"data row8 col9\" >-0.188278</td>\n",
       "    </tr>\n",
       "    <tr>\n",
       "      <th id=\"T_bcb51_level0_row9\" class=\"row_heading level0 row9\" >Type</th>\n",
       "      <td id=\"T_bcb51_row9_col0\" class=\"data row9 col0\" >-0.164237</td>\n",
       "      <td id=\"T_bcb51_row9_col1\" class=\"data row9 col1\" >0.502898</td>\n",
       "      <td id=\"T_bcb51_row9_col2\" class=\"data row9 col2\" >-0.744993</td>\n",
       "      <td id=\"T_bcb51_row9_col3\" class=\"data row9 col3\" >0.598829</td>\n",
       "      <td id=\"T_bcb51_row9_col4\" class=\"data row9 col4\" >0.151565</td>\n",
       "      <td id=\"T_bcb51_row9_col5\" class=\"data row9 col5\" >-0.010054</td>\n",
       "      <td id=\"T_bcb51_row9_col6\" class=\"data row9 col6\" >0.000952</td>\n",
       "      <td id=\"T_bcb51_row9_col7\" class=\"data row9 col7\" >0.575161</td>\n",
       "      <td id=\"T_bcb51_row9_col8\" class=\"data row9 col8\" >-0.188278</td>\n",
       "      <td id=\"T_bcb51_row9_col9\" class=\"data row9 col9\" >1.000000</td>\n",
       "    </tr>\n",
       "  </tbody>\n",
       "</table>\n"
      ],
      "text/plain": [
       "<pandas.io.formats.style.Styler at 0x1ec4fc14ee0>"
      ]
     },
     "execution_count": 38,
     "metadata": {},
     "output_type": "execute_result"
    }
   ],
   "source": [
    "glass_data.corr().style.background_gradient(cmap=\"Blues\")"
   ]
  },
  {
   "cell_type": "code",
   "execution_count": 80,
   "metadata": {},
   "outputs": [
    {
     "data": {
      "text/plain": [
       "<AxesSubplot:ylabel='Count'>"
      ]
     },
     "execution_count": 80,
     "metadata": {},
     "output_type": "execute_result"
    },
    {
     "data": {
      "image/png": "[encoded data removed]",
      "text/plain": [
       "<Figure size 640x480 with 1 Axes>"
      ]
     },
     "metadata": {},
     "output_type": "display_data"
    }
   ],
   "source": [
    "sns.histplot(glass_data)"
   ]
  },
  {
   "cell_type": "markdown",
   "metadata": {},
   "source": [
    "On Glass Dataset:\n",
    "\n",
    "Linear SVC has the better Accuracy than SVC and Naïve Bayes method\n",
    "\n",
    "SVMs are different from other Naive Bayes algorithm because of the way they choose the decision boundary that maximizes the distance from the nearest data points of all the classes. The decision boundary created by SVMs is called the maximum margin classifier or the maximum margin hyper plane."
   ]
  },
  {
   "cell_type": "code",
   "execution_count": null,
   "metadata": {},
   "outputs": [],
   "source": []
  }
 ],
 "metadata": {
  "kernelspec": {
   "display_name": "Python 3 (ipykernel)",
   "language": "python",
   "name": "python3"
  },
  "language_info": {
   "codemirror_mode": {
    "name": "ipython",
    "version": 3
   },
   "file_extension": ".py",
   "mimetype": "text/x-python",
   "name": "python",
   "nbconvert_exporter": "python",
   "pygments_lexer": "ipython3",
   "version": "3.9.13"
  }
 },
 "nbformat": 4,
 "nbformat_minor": 1
}
