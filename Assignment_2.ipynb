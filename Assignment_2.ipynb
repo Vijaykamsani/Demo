{
  "nbformat": 4,
  "nbformat_minor": 0,
  "metadata": {
    "colab": {
      "provenance": [],
      "authorship_tag": "ABX9TyPH8FMRko72M+h4AuX4M/9a",
      "include_colab_link": true
    },
    "kernelspec": {
      "name": "python3",
      "display_name": "Python 3"
    },
    "language_info": {
      "name": "python"
    }
  },
  "cells": [
    {
      "cell_type": "markdown",
      "metadata": {
        "id": "view-in-github",
        "colab_type": "text"
      },
      "source": [
        "<a href=\"https://colab.research.google.com/github/Vijaykamsani/ML_Assignment_-70037910/blob/main/Assignment_2.ipynb\" target=\"_parent\"><img src=\"https://colab.research.google.com/assets/colab-badge.svg\" alt=\"Open In Colab\"/></a>"
      ]
    },
    {
      "cell_type": "code",
      "execution_count": 37,
      "metadata": {
        "colab": {
          "base_uri": "https://localhost:8080/"
        },
        "id": "-DKhsJR8s6re",
        "outputId": "39be99c3-8e2f-432d-a59b-49aa8b0ca727"
      },
      "outputs": [
        {
          "output_type": "stream",
          "name": "stdout",
          "text": [
            "Enter the number5\n",
            "* \n",
            "* * \n",
            "* * * \n",
            "* * * * \n",
            "* * * * * \n",
            "* * * * \n",
            "* * * \n",
            "* * \n",
            "* \n",
            "\n"
          ]
        }
      ],
      "source": [
        "rows = int(input(\"Enter the number\"))\n",
        "for i in range (0, rows):\n",
        "    for j in range(0, i + 1):\n",
        "        print(\"* \",end='')\n",
        "    print(\"\\r\")\n",
        "for i in range (rows, 0, -1):\n",
        "    for j in range(0, i -1):\n",
        "        print(\"* \", end='')\n",
        "    print(\"\\r\")"
      ]
    },
    {
      "cell_type": "code",
      "source": [
        "my_list = [10, 20, 30, 40, 50, 60, 70, 80, 90, 100]\n",
        "print(\"The list is :\")\n",
        "print(my_list)\n",
        "print(\"odd index are : \")\n",
        "for i in range(0, len(my_list)):\n",
        "  if(i%2==1):\n",
        "    print(my_list[i])"
      ],
      "metadata": {
        "colab": {
          "base_uri": "https://localhost:8080/"
        },
        "id": "HVyo_fGbtsOs",
        "outputId": "f325d863-4e6d-4b92-cfdb-901a9fdfa278"
      },
      "execution_count": 29,
      "outputs": [
        {
          "output_type": "stream",
          "name": "stdout",
          "text": [
            "The list is :\n",
            "[10, 20, 30, 40, 50, 60, 70, 80, 90, 100]\n",
            "odd index are : \n",
            "20\n",
            "40\n",
            "60\n",
            "80\n",
            "100\n"
          ]
        }
      ]
    },
    {
      "cell_type": "code",
      "source": [
        "x = [23, 'Python', 23.98]\n",
        "xtype=[]\n",
        "for i in x:\n",
        "    xtype.append(type(i))\n",
        "print(x)\n",
        "print(xtype)"
      ],
      "metadata": {
        "colab": {
          "base_uri": "https://localhost:8080/"
        },
        "id": "COE85Cw2vEWn",
        "outputId": "e5dcf452-6f74-4cc1-8d12-9ab06cf3ce85"
      },
      "execution_count": 20,
      "outputs": [
        {
          "output_type": "stream",
          "name": "stdout",
          "text": [
            "[23, 'Python', 23.98]\n",
            "[<class 'int'>, <class 'str'>, <class 'float'>]\n"
          ]
        }
      ]
    },
    {
      "cell_type": "code",
      "source": [
        "def unique_list(l):\n",
        "  x = []\n",
        "  for a in l:\n",
        "    if a not in x:\n",
        "      x.append(a)\n",
        "  return x\n",
        "\n",
        "x=(unique_list([1,2,3,3,3,3,4,5]))\n",
        "print(x)"
      ],
      "metadata": {
        "colab": {
          "base_uri": "https://localhost:8080/"
        },
        "id": "QNrTajWLxocY",
        "outputId": "377bad88-6ce6-44b3-dc36-7c7ca4de20e9"
      },
      "execution_count": 30,
      "outputs": [
        {
          "output_type": "stream",
          "name": "stdout",
          "text": [
            "[1, 2, 3, 4, 5]\n"
          ]
        }
      ]
    },
    {
      "cell_type": "code",
      "source": [
        "Input='The quick Brow Fox' #input()\n",
        "uppercase=0\n",
        "lowercase=0\n",
        "for i in Input:\n",
        "    if(i.isupper()):\n",
        "        uppercase+=1\n",
        "    else:\n",
        "        if(i.islower()):\n",
        "            lowercase+=1\n",
        "print(\"No. of Upper-case characters: \",+(uppercase))\n",
        "print(\"No. of Lowwer-case characters: \",+(lowercase))\n",
        "print(\"\\n\")\n"
      ],
      "metadata": {
        "colab": {
          "base_uri": "https://localhost:8080/"
        },
        "id": "Ogmpcr8f0EAa",
        "outputId": "cce7a85c-e5c3-47b2-b385-67127fe36659"
      },
      "execution_count": 33,
      "outputs": [
        {
          "output_type": "stream",
          "name": "stdout",
          "text": [
            "No. of Upper-case characters:  3\n",
            "No. of Lowwer-case characters:  12\n",
            "\n",
            "\n"
          ]
        }
      ]
    }
  ]
}