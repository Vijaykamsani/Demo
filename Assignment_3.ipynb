{
  "nbformat": 4,
  "nbformat_minor": 0,
  "metadata": {
    "colab": {
      "provenance": [],
      "authorship_tag": "ABX9TyO1ETMOycUmO8lk+jBif0SW",
      "include_colab_link": true
    },
    "kernelspec": {
      "name": "python3",
      "display_name": "Python 3"
    },
    "language_info": {
      "name": "python"
    }
  },
  "cells": [
    {
      "cell_type": "markdown",
      "metadata": {
        "id": "view-in-github",
        "colab_type": "text"
      },
      "source": [
        "<a href=\"https://colab.research.google.com/github/Vijaykamsani/ML_Assignment_-70037910/blob/main/Assignment_3.ipynb\" target=\"_parent\"><img src=\"https://colab.research.google.com/assets/colab-badge.svg\" alt=\"Open In Colab\"/></a>"
      ]
    },
    {
      "cell_type": "code",
      "source": [
        "#a\n",
        "import numpy as np\n",
        "\n",
        "# random vector of size 15 with integers in the range 1-20\n",
        "random_vector = np.random.randint(1, 21, size=15)\n",
        "print(\"Original Vector: \\n\", random_vector)\n",
        "\n",
        "# reshape the vector to 3 by 5 array\n",
        "reshape_array = np.reshape(random_vector, (3, 5))\n",
        "print(\"Reshaped Array: \\n\", reshape_array)\n",
        "\n",
        "# print the shape of the array\n",
        "print(\"Shape of the Array: \", reshape_array.shape)\n",
        "\n",
        "# replace the max in each row by 0\n",
        "max= np.argmax(reshape_array, axis=1)\n",
        "for i in range(reshape_array.shape[0]):\n",
        "    reshape_array[i, max[i]] = 0\n",
        "print(\"Array after replacing max in each row by 0: \\n\", reshape_array)\n",
        "\n",
        "# 2-dim array of size 4 x 3 with 4-byte integer elements\n",
        "new_array = np.zeros((4, 3), dtype=np.int32)\n",
        "print(\"New Array: \\n\", new_array)\n",
        "print(\"Shape of New Array: \", new_array.shape)\n",
        "print(\"Type of New Array: \", type(new_array))\n",
        "print(\"Data type of New Array: \", new_array.dtype)\n"
      ],
      "metadata": {
        "colab": {
          "base_uri": "https://localhost:8080/"
        },
        "id": "OgPqkM4K2QPE",
        "outputId": "fb3aa734-3c1f-4cd2-99a1-41a4fcca98f7"
      },
      "execution_count": 3,
      "outputs": [
        {
          "output_type": "stream",
          "name": "stdout",
          "text": [
            "Original Vector: \n",
            " [20 14  5 11 15  6  5  8  2  4 18 10 14  6 20]\n",
            "Reshaped Array: \n",
            " [[20 14  5 11 15]\n",
            " [ 6  5  8  2  4]\n",
            " [18 10 14  6 20]]\n",
            "Shape of the Array:  (3, 5)\n",
            "Array after replacing max in each row by 0: \n",
            " [[ 0 14  5 11 15]\n",
            " [ 6  5  0  2  4]\n",
            " [18 10 14  6  0]]\n",
            "New Array: \n",
            " [[0 0 0]\n",
            " [0 0 0]\n",
            " [0 0 0]\n",
            " [0 0 0]]\n",
            "Shape of New Array:  (4, 3)\n",
            "Type of New Array:  <class 'numpy.ndarray'>\n",
            "Data type of New Array:  int32\n"
          ]
        }
      ]
    },
    {
      "cell_type": "code",
      "source": [
        "#b\n",
        "import numpy as np\n",
        "from numpy.linalg import eig\n",
        "\n",
        "#  input matrix\n",
        "A = np.array([[3, -2], [1, 0]])\n",
        "\n",
        "# the eigenvalues and right eigenvectors\n",
        "eigenvalues, eigenvectors = np.linalg.eig(A)\n",
        "\n",
        "print(\"Eigenvalues: \", eigenvalues)\n",
        "print(\"Right eigenvectors: \\n\", eigenvectors)"
      ],
      "metadata": {
        "colab": {
          "base_uri": "https://localhost:8080/"
        },
        "id": "jYLq_wriC-5l",
        "outputId": "77ee13a4-b200-41c7-eb63-77c5f71aa1af"
      },
      "execution_count": 3,
      "outputs": [
        {
          "output_type": "stream",
          "name": "stdout",
          "text": [
            "Eigenvalues:  [2. 1.]\n",
            "Right eigenvectors: \n",
            " [[0.89442719 0.70710678]\n",
            " [0.4472136  0.70710678]]\n"
          ]
        }
      ]
    },
    {
      "cell_type": "code",
      "source": [
        "#c\n",
        "import numpy as np\n",
        "\n",
        "#  input array\n",
        "arr = np.array([[0, 1, 2], [3, 4, 5]])\n",
        "\n",
        "# sum of diagonal elements\n",
        "sum_diag = np.trace(arr)\n",
        "\n",
        "print(\"Sum of diagonal elements: \", sum_diag)"
      ],
      "metadata": {
        "colab": {
          "base_uri": "https://localhost:8080/"
        },
        "id": "yZBPrZ5eFMua",
        "outputId": "7e538b88-2f1e-45ff-b6d7-e6aba303d608"
      },
      "execution_count": 4,
      "outputs": [
        {
          "output_type": "stream",
          "name": "stdout",
          "text": [
            "Sum of diagonal elements:  4\n"
          ]
        }
      ]
    },
    {
      "cell_type": "code",
      "source": [
        "#d\n",
        "import numpy as np\n",
        "\n",
        "# input array\n",
        "arr = np.array([[1, 2], [3, 4], [5, 6]])\n",
        "\n",
        "#actual input of the array \n",
        "print(\"Given input array: \\n\", arr)\n",
        "\n",
        "# reshape to 2x3\n",
        "arr= np.reshape(arr, (2, 3))\n",
        "print(\"Reshape to 2x3: \\n\", arr)"
      ],
      "metadata": {
        "colab": {
          "base_uri": "https://localhost:8080/"
        },
        "id": "PfnKlQlgIbwB",
        "outputId": "1dfe7fe4-1431-4720-e3cc-2b12f63b7503"
      },
      "execution_count": 6,
      "outputs": [
        {
          "output_type": "stream",
          "name": "stdout",
          "text": [
            "Reshape to 3x2: \n",
            " [[1 2]\n",
            " [3 4]\n",
            " [5 6]]\n",
            "Reshape to 2x3: \n",
            " [[1 2 3]\n",
            " [4 5 6]]\n"
          ]
        }
      ]
    },
    {
      "cell_type": "code",
      "source": [
        "#d\n",
        "import matplotlib.pyplot as plt\n",
        "\n",
        "# given data\n",
        "languages = ['Java', 'Python', 'PHP', 'JavaScript', 'C#', 'C++']\n",
        "popularity = [22.2, 17.6, 8.8, 8, 7.7, 6.7]\n",
        "\n",
        "# display the  pie chart\n",
        "plt.pie(popularity, labels=languages, autopct='%1.1f%%', startangle=120)\n",
        "\n",
        "# show the chart\n",
        "plt.show()"
      ],
      "metadata": {
        "colab": {
          "base_uri": "https://localhost:8080/",
          "height": 248
        },
        "id": "McaBN_UKJFTi",
        "outputId": "33f6fc5b-6c0d-4afc-ac34-5c59b829a7c8"
      },
      "execution_count": 15,
      "outputs": [
        {
          "output_type": "display_data",
          "data": {
            "text/plain": [
              "<Figure size 432x288 with 1 Axes>"
            ],
            "image/png": "[encoded data removed]"
          },
          "metadata": {}
        }
      ]
    }
  ]
}