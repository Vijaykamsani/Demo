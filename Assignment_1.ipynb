{
 "cells": [
  {
   "cell_type": "code",
   "execution_count": 9,
   "id": "06f203fd",
   "metadata": {},
   "outputs": [
    {
     "name": "stdout",
     "output_type": "stream",
     "text": [
      "After sorting of ages: [19, 19, 20, 22, 24, 24, 24, 25, 25, 26]\n",
      "Minimum of age: 19\n",
      "Maximum of age: 26\n",
      "Adding min age and max age to list: [19, 19, 20, 22, 24, 24, 24, 25, 25, 26, 19, 26]\n",
      " median of age:  24.0\n",
      "Average age:  22.75\n",
      "Range of age:  7\n"
     ]
    }
   ],
   "source": [
    "#1The following is the list of 10 student ages\n",
    "\n",
    "ages=[19,22,19,24,20,25,26,24,25,24]\n",
    "\n",
    "#1a  Sort the list and find the min and max age\n",
    "ages.sort()\n",
    "min_age=ages[0]\n",
    "max_age=ages[len(ages)-1]\n",
    "print(\"After sorting of ages:\",ages)\n",
    "print(\"Minimum of age:\",min_age)\n",
    "print(\"Maximum of age:\",max_age)\n",
    "\n",
    "#1b Add the min age and the max age again to the list\n",
    "ages.append(min_age)\n",
    "ages.append(max_age)\n",
    "print(\"Adding min age and max age to list:\",ages)\n",
    "\n",
    "#1c Find the median age (one middle item or two middle items divided by two)\n",
    "length=len(ages)\n",
    "if(length%2==0):\n",
    "    median=(ages[(int)(length/2)]+ages[(int)((length/2)-1)])/2\n",
    "else:\n",
    "    median=ages[(int)((length-1)/2)]\n",
    "print(\" median of age: \",median)\n",
    "\n",
    "#1d • Find the average age (sum of all items divided by their number)\n",
    "avg=sum(ages)/length\n",
    "print(\"Average age: \",avg)\n",
    "\n",
    "#1e• Find the range of the ages (max minus min)\n",
    "ages.sort()\n",
    "range1=ages[len(ages)-1]-ages[0]\n",
    "print(\"Range of age: \",range1)\n"
   ]
  },
  {
   "cell_type": "code",
   "execution_count": 13,
   "id": "cd9f5cc3",
   "metadata": {},
   "outputs": [
    {
     "name": "stdout",
     "output_type": "stream",
     "text": [
      "Creating empty dictionary: {'name': 'alex', 'color': 'white', 'legs': 4, 'age': 6}\n",
      "\n",
      "\n",
      "student dictionary:  {'first_name': 'vijay', 'last_name': 'kamsani', 'gender': 'Male', 'age': 24, 'marital status': 'Single', 'skills': ['Actor', 'Dancer'], 'country': 'India', 'city': 'missori', 'address': 'warrens'}\n",
      "\n",
      "\n",
      "length of the student: 9\n",
      "\n",
      "\n",
      "datatype of the student:  <class 'list'>\n",
      "\n",
      "\n",
      "modifying the skill:  {'first_name': 'vijay', 'last_name': 'kamsani', 'gender': 'Male', 'age': 24, 'marital status': 'Single', 'skills': ['Actor', 'Dancer', 'Singer', 'Rider'], 'country': 'India', 'city': 'missori', 'address': 'warrens'}\n",
      "\n",
      "\n",
      "student keys:  dict_keys(['first_name', 'last_name', 'gender', 'age', 'marital status', 'skills', 'country', 'city', 'address'])\n",
      "\n",
      "\n",
      "student values:  dict_values(['vijay', 'kamsani', 'Male', 24, 'Single', ['Actor', 'Dancer', 'Singer', 'Rider'], 'India', 'missori', 'warrens'])\n"
     ]
    }
   ],
   "source": [
    "#2\n",
    "dog={\n",
    "    'name':'alex',\n",
    "    'color':'white',\n",
    "    'legs':4,\n",
    "    'age':6,\n",
    "}\n",
    "print(\"Creating empty dictionary:\",dog)\n",
    "print(\"\\n\")\n",
    "\n",
    "student={}\n",
    "student['first_name']='vijay'\n",
    "student['last_name']='kamsani'\n",
    "student['gender']='Male'\n",
    "student['age']=24\n",
    "student['marital status']='Single'\n",
    "student['skills']=['Actor','Dancer']\n",
    "student['country']='India'\n",
    "student['city']='missori'\n",
    "student['address']='warrens'\n",
    "print(\"student dictionary: \",student)\n",
    "print(\"\\n\")\n",
    "\n",
    "print(\"length of the student:\",len(student))\n",
    "print(\"\\n\")\n",
    "\n",
    "print(\"datatype of the student: \",type(student['skills']))\n",
    "print(\"\\n\")\n",
    "\n",
    "student.update({'skills':['Actor','Dancer','Singer','Rider']})\n",
    "print(\"modifying the skill: \",student)\n",
    "print(\"\\n\")\n",
    "\n",
    "print(\"student keys: \",student.keys())\n",
    "print(\"\\n\")\n",
    "\n",
    "print(\"student values: \",student.values())"
   ]
  },
  {
   "cell_type": "code",
   "execution_count": 14,
   "id": "9ab56f42",
   "metadata": {},
   "outputs": [
    {
     "name": "stdout",
     "output_type": "stream",
     "text": [
      "Names of the sisters:  ('Akhila', 'vennala', 'sandhya')\n",
      "\n",
      "\n",
      "Names of the brothers:  ('vinod', 'kranthi', 'bharath', 'sharath')\n",
      "\n",
      "\n",
      "total sibling: ('Akhila', 'vennala', 'sandhya', 'vinod', 'kranthi', 'bharath', 'sharath')\n",
      "\n",
      "\n",
      "length of the siblings: 7\n",
      "\n",
      "\n",
      "total family members:  ('Akhila', 'vennala', 'sandhya', 'vinod', 'kranthi', 'bharath', 'sharath', 'shankar', 'Anasurya')\n"
     ]
    }
   ],
   "source": [
    "#3• Create a tuple containing names of your sisters and your brothers\n",
    "\n",
    "sisters=(\"Akhila\",\"vennala\",\"sandhya\")\n",
    "Brothers=(\"vinod\",\"kranthi\",\"bharath\",\"sharath\")\n",
    "print(\"Names of the sisters: \",sisters)\n",
    "print(\"\\n\")\n",
    "print(\"Names of the brothers: \",Brothers)\n",
    "print(\"\\n\")\n",
    "\n",
    "#Join brothers and sisters tuples and assign it to siblings\n",
    "siblings=sisters+Brothers\n",
    "print(\"total sibling:\",siblings)\n",
    "print(\"\\n\")\n",
    "\n",
    "print(\"length of the siblings:\",len(siblings))\n",
    "print(\"\\n\")\n",
    "\n",
    "family_members=siblings+(\"shankar\",\"Anasurya\")\n",
    "print(\"total family members: \",family_members)\n"
   ]
  },
  {
   "cell_type": "code",
   "execution_count": 15,
   "id": "0566e35b",
   "metadata": {},
   "outputs": [
    {
     "name": "stdout",
     "output_type": "stream",
     "text": [
      "length of the IT compinies:  7\n",
      "\n",
      "\n",
      "adding twitter to it_compinies:  {'Google', 'Oracle', 'IBM', 'Microsoft', 'Amazon', 'Facebook', 'Twitter', 'Apple'}\n",
      "\n",
      "\n",
      "inserting multiple it_compinies:  {'Amazon', 'Facebook', 'Twitter', 'Oracle', 'Microsoft', 'TCS', 'Capgemini', 'Google', 'IBM', 'Cognizant', 'Apple'}\n",
      "\n",
      "\n",
      "removing one if it_compinie:  {'Amazon', 'Facebook', 'Twitter', 'Oracle', 'Microsoft', 'TCS', 'Capgemini', 'Google', 'IBM', 'Apple'}\n",
      "\n",
      "\n",
      "joining both Aand B:  {19, 20, 22, 24, 25, 26, 27, 28}\n",
      "\n",
      "\n",
      "inserting A and B:  {19, 20, 22, 24, 25, 26}\n",
      "\n",
      "\n",
      "subset of A and B:  True\n",
      "\n",
      "\n",
      "Disjoint seet of Aand B:  False\n",
      "\n",
      "\n",
      "joining A and B:  {19, 20, 22, 24, 25, 26, 27, 28}\n",
      "Joining B and A:  {19, 20, 22, 24, 25, 26, 27, 28}\n",
      "\n",
      "\n",
      "symmetric_difference between A and B:  {27, 28}\n",
      "\n",
      "\n",
      "Deleting it_companies:  set()\n",
      "set()\n",
      "set()\n",
      "\n",
      "\n",
      "8\n",
      "5\n"
     ]
    }
   ],
   "source": [
    "#4\n",
    "it_companies={'Facebook','Google','Microsoft','Apple','IBM','Oracle','Amazon'}\n",
    "A={19,22,24,20,25,26}\n",
    "B={19,22,20,25,26,24,28,27}\n",
    "age=[22,19,24,25,26,24,25,24]\n",
    "print(\"length of the IT compinies: \",len(it_companies))\n",
    "print(\"\\n\")\n",
    "\n",
    "it_companies.add('Twitter')\n",
    "print(\"adding twitter to it_compinies: \",it_companies)\n",
    "print(\"\\n\")\n",
    "\n",
    "it_companies.update(['TCS','Cognizant','Capgemini'])\n",
    "print(\"inserting multiple it_compinies: \",it_companies)\n",
    "print(\"\\n\")\n",
    "\n",
    "it_companies.remove('Cognizant')\n",
    "print(\"removing one if it_compinie: \",it_companies)\n",
    "print(\"\\n\")\n",
    "\n",
    "#what is the difference between remove and discard\n",
    "#If the item to remove does not exist in the given set, \"remove\" will raise an error where as \"discard\" will not raise an error\n",
    "\n",
    "print(\"joining both Aand B: \",A.union(B))\n",
    "print(\"\\n\")\n",
    "\n",
    "print(\"inserting A and B: \",A.intersection(B))\n",
    "print(\"\\n\")\n",
    "\n",
    "print(\"subset of A and B: \",A.issubset(B))\n",
    "print(\"\\n\")\n",
    "\n",
    "print(\"Disjoint seet of Aand B: \",A.isdisjoint(B))\n",
    "print(\"\\n\")\n",
    "\n",
    "print(\"joining A and B: \",A.union(B))\n",
    "print(\"Joining B and A: \",B.union(A))\n",
    "print(\"\\n\")\n",
    "\n",
    "print(\"symmetric_difference between A and B: \",A.symmetric_difference(B))\n",
    "print(\"\\n\")\n",
    "\n",
    "it_companies.clear()\n",
    "A.clear()\n",
    "B.clear()\n",
    "print(\"Deleting it_companies: \",it_companies)\n",
    "print(A)\n",
    "print(B)\n",
    "print(\"\\n\")\n",
    "\n",
    "Ages=set(age)\n",
    "print(len(age))\n",
    "print(len(Ages))\n",
    "\n"
   ]
  },
  {
   "cell_type": "code",
   "execution_count": 16,
   "id": "f000cb9f",
   "metadata": {},
   "outputs": [
    {
     "name": "stdout",
     "output_type": "stream",
     "text": [
      "the area of a circle:  2826.0\n",
      "the circumference of a circle:  188.4\n",
      "Enter the radius:23\n",
      "the area of circle:  1661.06\n"
     ]
    }
   ],
   "source": [
    "#5 • Calculate the area of a circle \n",
    "\n",
    "radius1=30\n",
    "pi=3.14\n",
    "area_of_circle=pi*radius1*radius1\n",
    "print(\"the area of a circle: \",area_of_circle)\n",
    "\n",
    "circum_of_circle=2*pi*radius1\n",
    "print(\"the circumference of a circle: \",circum_of_circle)\n",
    "\n",
    "radius2=(float)(input(\"Enter the radius:\"))\n",
    "area=pi*radius2*radius2\n",
    "print(\"the area of circle: \",area)\n"
   ]
  },
  {
   "cell_type": "code",
   "execution_count": 17,
   "id": "f229ed3b",
   "metadata": {},
   "outputs": [
    {
     "name": "stdout",
     "output_type": "stream",
     "text": [
      "unique words of sentence:  {'people', 'and', 'to', 'a', 'inspire', 'teach', 'teacher', 'I', 'love', 'am'}\n",
      "\n",
      "\n",
      "length of the words:  10\n"
     ]
    }
   ],
   "source": [
    "#6How many unique words have been used in the sentence\n",
    "\n",
    "str1=\"I am a teacher and I love to inspire and teach people\"\n",
    "S=(set)(str1.split())\n",
    "print(\"unique words of sentence: \",S)\n",
    "print(\"\\n\")\n",
    "print(\"length of the words: \",len(S))"
   ]
  },
  {
   "cell_type": "code",
   "execution_count": 6,
   "id": "f4453336",
   "metadata": {},
   "outputs": [
    {
     "name": "stdout",
     "output_type": "stream",
     "text": [
      "Name\tAge\tCountry\tCity\n",
      "Asabeneh\t250\tFinland\tHelsinki\n"
     ]
    }
   ],
   "source": [
    "#7 Use a tab escape sequence to get the following lines.\n",
    "\n",
    "print(\"Name\\tAge\\tCountry\\tCity\\nAsabeneh\\t250\\tFinland\\tHelsinki\")"
   ]
  },
  {
   "cell_type": "code",
   "execution_count": 2,
   "id": "853978e6",
   "metadata": {},
   "outputs": [
    {
     "name": "stdout",
     "output_type": "stream",
     "text": [
      "radius = 10\n",
      "area = 3.14 * radius ** 2\n",
      "\"The area of circle with radius 10 is 314 meter square.\"\n"
     ]
    }
   ],
   "source": [
    "#8 Use the string formatting method to display the following:\n",
    "radius = 10\n",
    "area = 3.14 * radius ** 2\n",
    "#\"The area of a circle with radius 10 is 314 meters square.\"\"\n",
    "\n",
    "print('radius =', 10)\n",
    "print('area =', 3.14, '* radius **',2)\n",
    "print('\\\"The area of circle with radius %d is %d meter square.\\\"'%(radius,area))"
   ]
  },
  {
   "cell_type": "code",
   "execution_count": 21,
   "id": "8964175d",
   "metadata": {},
   "outputs": [
    {
     "name": "stdout",
     "output_type": "stream",
     "text": [
      "enter number of inputs: 4\n",
      "enter the LBs: \n",
      "150\n",
      "155\n",
      "145\n",
      "148\n",
      "converting from LB to Kgs:  [68.025, 70.2925, 65.75750000000001, 67.118]\n"
     ]
    }
   ],
   "source": [
    "#9 to convert LB to Kilogram\n",
    "N=int(input(\"enter number of inputs: \"))\n",
    "Lbs=[]\n",
    "Kgs=[]\n",
    "print(\"enter the LBs: \")\n",
    "for i in range(0,N):\n",
    "    Lbs.append(int(input()))\n",
    "for i in range(0,N):\n",
    "    Kgs.append(0.4535*Lbs[i])\n",
    "print(\"converting from LB to Kgs: \",Kgs)\n"
   ]
  },
  {
   "cell_type": "code",
   "execution_count": null,
   "id": "3e18d0d0",
   "metadata": {},
   "outputs": [],
   "source": []
  },
  {
   "cell_type": "code",
   "execution_count": null,
   "id": "dce3cc2b",
   "metadata": {},
   "outputs": [],
   "source": []
  }
 ],
 "metadata": {
  "kernelspec": {
   "display_name": "Python 3 (ipykernel)",
   "language": "python",
   "name": "python3"
  },
  "language_info": {
   "codemirror_mode": {
    "name": "ipython",
    "version": 3
   },
   "file_extension": ".py",
   "mimetype": "text/x-python",
   "name": "python",
   "nbconvert_exporter": "python",
   "pygments_lexer": "ipython3",
   "version": "3.9.13"
  }
 },
 "nbformat": 4,
 "nbformat_minor": 5
}
